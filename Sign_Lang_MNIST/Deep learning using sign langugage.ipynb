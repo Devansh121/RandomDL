{
 "cells": [
  {
   "cell_type": "code",
   "execution_count": 60,
   "id": "77b88a0d",
   "metadata": {},
   "outputs": [],
   "source": [
    "import numpy as np\n",
    "import pandas as pd\n",
    "import matplotlib.pyplot as plt\n",
    "import seaborn as sns\n",
    "from sklearn.preprocessing import LabelBinarizer\n",
    "from sklearn.model_selection import train_test_split\n",
    "import keras\n",
    "from keras.models import Sequential\n",
    "from keras.layers import Dense, Conv2D, MaxPooling2D, Flatten, Dropout\n",
    "from sklearn.metrics import accuracy_score"
   ]
  },
  {
   "cell_type": "code",
   "execution_count": 3,
   "id": "fdf7615f",
   "metadata": {},
   "outputs": [],
   "source": [
    "train = pd.read_csv('sign_mnist_train.csv')\n",
    "test = pd.read_csv('sign_mnist_test.csv')"
   ]
  },
  {
   "cell_type": "code",
   "execution_count": 4,
   "id": "5795c76c",
   "metadata": {},
   "outputs": [
    {
     "data": {
      "text/html": [
       "<div>\n",
       "<style scoped>\n",
       "    .dataframe tbody tr th:only-of-type {\n",
       "        vertical-align: middle;\n",
       "    }\n",
       "\n",
       "    .dataframe tbody tr th {\n",
       "        vertical-align: top;\n",
       "    }\n",
       "\n",
       "    .dataframe thead th {\n",
       "        text-align: right;\n",
       "    }\n",
       "</style>\n",
       "<table border=\"1\" class=\"dataframe\">\n",
       "  <thead>\n",
       "    <tr style=\"text-align: right;\">\n",
       "      <th></th>\n",
       "      <th>label</th>\n",
       "      <th>pixel1</th>\n",
       "      <th>pixel2</th>\n",
       "      <th>pixel3</th>\n",
       "      <th>pixel4</th>\n",
       "      <th>pixel5</th>\n",
       "      <th>pixel6</th>\n",
       "      <th>pixel7</th>\n",
       "      <th>pixel8</th>\n",
       "      <th>pixel9</th>\n",
       "      <th>...</th>\n",
       "      <th>pixel775</th>\n",
       "      <th>pixel776</th>\n",
       "      <th>pixel777</th>\n",
       "      <th>pixel778</th>\n",
       "      <th>pixel779</th>\n",
       "      <th>pixel780</th>\n",
       "      <th>pixel781</th>\n",
       "      <th>pixel782</th>\n",
       "      <th>pixel783</th>\n",
       "      <th>pixel784</th>\n",
       "    </tr>\n",
       "  </thead>\n",
       "  <tbody>\n",
       "    <tr>\n",
       "      <th>0</th>\n",
       "      <td>3</td>\n",
       "      <td>107</td>\n",
       "      <td>118</td>\n",
       "      <td>127</td>\n",
       "      <td>134</td>\n",
       "      <td>139</td>\n",
       "      <td>143</td>\n",
       "      <td>146</td>\n",
       "      <td>150</td>\n",
       "      <td>153</td>\n",
       "      <td>...</td>\n",
       "      <td>207</td>\n",
       "      <td>207</td>\n",
       "      <td>207</td>\n",
       "      <td>207</td>\n",
       "      <td>206</td>\n",
       "      <td>206</td>\n",
       "      <td>206</td>\n",
       "      <td>204</td>\n",
       "      <td>203</td>\n",
       "      <td>202</td>\n",
       "    </tr>\n",
       "    <tr>\n",
       "      <th>1</th>\n",
       "      <td>6</td>\n",
       "      <td>155</td>\n",
       "      <td>157</td>\n",
       "      <td>156</td>\n",
       "      <td>156</td>\n",
       "      <td>156</td>\n",
       "      <td>157</td>\n",
       "      <td>156</td>\n",
       "      <td>158</td>\n",
       "      <td>158</td>\n",
       "      <td>...</td>\n",
       "      <td>69</td>\n",
       "      <td>149</td>\n",
       "      <td>128</td>\n",
       "      <td>87</td>\n",
       "      <td>94</td>\n",
       "      <td>163</td>\n",
       "      <td>175</td>\n",
       "      <td>103</td>\n",
       "      <td>135</td>\n",
       "      <td>149</td>\n",
       "    </tr>\n",
       "    <tr>\n",
       "      <th>2</th>\n",
       "      <td>2</td>\n",
       "      <td>187</td>\n",
       "      <td>188</td>\n",
       "      <td>188</td>\n",
       "      <td>187</td>\n",
       "      <td>187</td>\n",
       "      <td>186</td>\n",
       "      <td>187</td>\n",
       "      <td>188</td>\n",
       "      <td>187</td>\n",
       "      <td>...</td>\n",
       "      <td>202</td>\n",
       "      <td>201</td>\n",
       "      <td>200</td>\n",
       "      <td>199</td>\n",
       "      <td>198</td>\n",
       "      <td>199</td>\n",
       "      <td>198</td>\n",
       "      <td>195</td>\n",
       "      <td>194</td>\n",
       "      <td>195</td>\n",
       "    </tr>\n",
       "    <tr>\n",
       "      <th>3</th>\n",
       "      <td>2</td>\n",
       "      <td>211</td>\n",
       "      <td>211</td>\n",
       "      <td>212</td>\n",
       "      <td>212</td>\n",
       "      <td>211</td>\n",
       "      <td>210</td>\n",
       "      <td>211</td>\n",
       "      <td>210</td>\n",
       "      <td>210</td>\n",
       "      <td>...</td>\n",
       "      <td>235</td>\n",
       "      <td>234</td>\n",
       "      <td>233</td>\n",
       "      <td>231</td>\n",
       "      <td>230</td>\n",
       "      <td>226</td>\n",
       "      <td>225</td>\n",
       "      <td>222</td>\n",
       "      <td>229</td>\n",
       "      <td>163</td>\n",
       "    </tr>\n",
       "    <tr>\n",
       "      <th>4</th>\n",
       "      <td>13</td>\n",
       "      <td>164</td>\n",
       "      <td>167</td>\n",
       "      <td>170</td>\n",
       "      <td>172</td>\n",
       "      <td>176</td>\n",
       "      <td>179</td>\n",
       "      <td>180</td>\n",
       "      <td>184</td>\n",
       "      <td>185</td>\n",
       "      <td>...</td>\n",
       "      <td>92</td>\n",
       "      <td>105</td>\n",
       "      <td>105</td>\n",
       "      <td>108</td>\n",
       "      <td>133</td>\n",
       "      <td>163</td>\n",
       "      <td>157</td>\n",
       "      <td>163</td>\n",
       "      <td>164</td>\n",
       "      <td>179</td>\n",
       "    </tr>\n",
       "  </tbody>\n",
       "</table>\n",
       "<p>5 rows × 785 columns</p>\n",
       "</div>"
      ],
      "text/plain": [
       "   label  pixel1  pixel2  pixel3  pixel4  pixel5  pixel6  pixel7  pixel8  \\\n",
       "0      3     107     118     127     134     139     143     146     150   \n",
       "1      6     155     157     156     156     156     157     156     158   \n",
       "2      2     187     188     188     187     187     186     187     188   \n",
       "3      2     211     211     212     212     211     210     211     210   \n",
       "4     13     164     167     170     172     176     179     180     184   \n",
       "\n",
       "   pixel9  ...  pixel775  pixel776  pixel777  pixel778  pixel779  pixel780  \\\n",
       "0     153  ...       207       207       207       207       206       206   \n",
       "1     158  ...        69       149       128        87        94       163   \n",
       "2     187  ...       202       201       200       199       198       199   \n",
       "3     210  ...       235       234       233       231       230       226   \n",
       "4     185  ...        92       105       105       108       133       163   \n",
       "\n",
       "   pixel781  pixel782  pixel783  pixel784  \n",
       "0       206       204       203       202  \n",
       "1       175       103       135       149  \n",
       "2       198       195       194       195  \n",
       "3       225       222       229       163  \n",
       "4       157       163       164       179  \n",
       "\n",
       "[5 rows x 785 columns]"
      ]
     },
     "execution_count": 4,
     "metadata": {},
     "output_type": "execute_result"
    }
   ],
   "source": [
    "train.head()"
   ]
  },
  {
   "cell_type": "code",
   "execution_count": 5,
   "id": "64d79250",
   "metadata": {},
   "outputs": [
    {
     "data": {
      "text/plain": [
       "(27455, 785)"
      ]
     },
     "execution_count": 5,
     "metadata": {},
     "output_type": "execute_result"
    }
   ],
   "source": [
    "train.shape"
   ]
  },
  {
   "cell_type": "code",
   "execution_count": 6,
   "id": "eb21ce11",
   "metadata": {},
   "outputs": [],
   "source": [
    "labels = train['label'].values"
   ]
  },
  {
   "cell_type": "code",
   "execution_count": 7,
   "id": "0bf9149d",
   "metadata": {},
   "outputs": [
    {
     "data": {
      "text/plain": [
       "array([ 0,  1,  2,  3,  4,  5,  6,  7,  8, 10, 11, 12, 13, 14, 15, 16, 17,\n",
       "       18, 19, 20, 21, 22, 23, 24])"
      ]
     },
     "execution_count": 7,
     "metadata": {},
     "output_type": "execute_result"
    }
   ],
   "source": [
    "unique_val = np.array(labels)\n",
    "np.unique(unique_val)"
   ]
  },
  {
   "cell_type": "code",
   "execution_count": 8,
   "id": "22930706",
   "metadata": {},
   "outputs": [
    {
     "data": {
      "text/plain": [
       "<Axes: ylabel='count'>"
      ]
     },
     "execution_count": 8,
     "metadata": {},
     "output_type": "execute_result"
    },
    {
     "data": {
      "image/png": "[encoded data removed]",
      "text/plain": [
       "<Figure size 1800x800 with 1 Axes>"
      ]
     },
     "metadata": {},
     "output_type": "display_data"
    }
   ],
   "source": [
    "plt.figure(figsize = (18,8))\n",
    "sns.countplot(x = labels)"
   ]
  },
  {
   "cell_type": "code",
   "execution_count": 9,
   "id": "1f5c380f",
   "metadata": {},
   "outputs": [],
   "source": [
    "train.drop('label', axis = 1, inplace = True)"
   ]
  },
  {
   "cell_type": "code",
   "execution_count": 10,
   "id": "ad3d7fe1",
   "metadata": {},
   "outputs": [],
   "source": [
    "images = train.values\n",
    "images = np.array([np.reshape(i,(28,28)) for i in images])\n",
    "images = np.array([i.flatten() for i in images])"
   ]
  },
  {
   "cell_type": "code",
   "execution_count": 13,
   "id": "7faf6384",
   "metadata": {},
   "outputs": [],
   "source": [
    "label_binarizer = LabelBinarizer()\n",
    "labels = label_binarizer.fit_transform(labels)"
   ]
  },
  {
   "cell_type": "code",
   "execution_count": 14,
   "id": "a63cde1f",
   "metadata": {},
   "outputs": [
    {
     "data": {
      "text/plain": [
       "array([[0, 0, 0, ..., 0, 0, 0],\n",
       "       [0, 0, 0, ..., 0, 0, 0],\n",
       "       [0, 0, 1, ..., 0, 0, 0],\n",
       "       ...,\n",
       "       [0, 0, 0, ..., 0, 0, 0],\n",
       "       [0, 0, 0, ..., 0, 0, 0],\n",
       "       [0, 0, 0, ..., 0, 1, 0]])"
      ]
     },
     "execution_count": 14,
     "metadata": {},
     "output_type": "execute_result"
    }
   ],
   "source": [
    "labels"
   ]
  },
  {
   "cell_type": "code",
   "execution_count": 15,
   "id": "3602115e",
   "metadata": {},
   "outputs": [
    {
     "data": {
      "text/plain": [
       "<matplotlib.image.AxesImage at 0x176c90610>"
      ]
     },
     "execution_count": 15,
     "metadata": {},
     "output_type": "execute_result"
    },
    {
     "data": {
      "image/png": "[encoded data removed]",
      "text/plain": [
       "<Figure size 640x480 with 1 Axes>"
      ]
     },
     "metadata": {},
     "output_type": "display_data"
    }
   ],
   "source": [
    "plt.imshow(images[0].reshape(28,28))"
   ]
  },
  {
   "cell_type": "code",
   "execution_count": 18,
   "id": "71e5a30c",
   "metadata": {},
   "outputs": [],
   "source": [
    "x_train, x_test, y_train, y_test = train_test_split(images, labels, test_size = 0.3, random_state = 123)"
   ]
  },
  {
   "cell_type": "code",
   "execution_count": 21,
   "id": "1539afd7",
   "metadata": {},
   "outputs": [],
   "source": [
    "batch_size = 128\n",
    "num_classes = 24\n",
    "epochs = 50"
   ]
  },
  {
   "cell_type": "code",
   "execution_count": 22,
   "id": "a3f4988a",
   "metadata": {},
   "outputs": [],
   "source": [
    "x_train = x_train / 255\n",
    "x_test = x_test / 255"
   ]
  },
  {
   "cell_type": "code",
   "execution_count": 23,
   "id": "24c711e4",
   "metadata": {},
   "outputs": [],
   "source": [
    "x_train = x_train.reshape(x_train.shape[0], 28, 28, 1)"
   ]
  },
  {
   "cell_type": "code",
   "execution_count": 24,
   "id": "4872f9b2",
   "metadata": {},
   "outputs": [],
   "source": [
    "x_test = x_test.reshape(x_test.shape[0], 28, 28, 1)"
   ]
  },
  {
   "cell_type": "code",
   "execution_count": 26,
   "id": "52763d75",
   "metadata": {},
   "outputs": [
    {
     "data": {
      "text/plain": [
       "<matplotlib.image.AxesImage at 0x2c7c42310>"
      ]
     },
     "execution_count": 26,
     "metadata": {},
     "output_type": "execute_result"
    },
    {
     "data": {
      "image/png": "[encoded data removed]",
      "text/plain": [
       "<Figure size 640x480 with 1 Axes>"
      ]
     },
     "metadata": {},
     "output_type": "display_data"
    }
   ],
   "source": [
    "plt.imshow(x_train[0].reshape(28,28))"
   ]
  },
  {
   "cell_type": "code",
   "execution_count": 30,
   "id": "899edf28",
   "metadata": {},
   "outputs": [],
   "source": [
    "model = Sequential()\n",
    "\n",
    "model.add(Conv2D(64, kernel_size = (3,3), activation = 'relu', input_shape = (28, 28, 1) ))\n",
    "model.add(MaxPooling2D(pool_size = (2, 2)))\n",
    "\n",
    "model.add(Conv2D(64, kernel_size = (3,3), activation = 'relu'))\n",
    "model.add(MaxPooling2D(pool_size = (2, 2)))\n",
    "\n",
    "model.add(Conv2D(64, kernel_size = (3,3), activation = 'relu'))\n",
    "model.add(MaxPooling2D(pool_size = (2, 2)))\n",
    "\n",
    "model.add(Flatten())\n",
    "model.add(Dense(128, activation = 'relu'))\n",
    "model.add(Dropout(0.2))\n",
    "\n",
    "model.add(Dense(num_classes, activation = 'softmax'))"
   ]
  },
  {
   "cell_type": "code",
   "execution_count": 36,
   "id": "3ee69b2b",
   "metadata": {},
   "outputs": [],
   "source": [
    "model.compile(loss = keras.losses.categorical_crossentropy, optimizer = keras.optimizers.legacy.Adam(), metrics = ['accuracy'])"
   ]
  },
  {
   "cell_type": "code",
   "execution_count": 38,
   "id": "fa856f3e",
   "metadata": {},
   "outputs": [
    {
     "name": "stdout",
     "output_type": "stream",
     "text": [
      "Epoch 1/50\n",
      "151/151 [==============================] - 10s 64ms/step - loss: 2.5555 - accuracy: 0.2158 - val_loss: 1.5558 - val_accuracy: 0.4908\n",
      "Epoch 2/50\n",
      "151/151 [==============================] - 10s 65ms/step - loss: 1.1717 - accuracy: 0.6082 - val_loss: 0.7648 - val_accuracy: 0.7594\n",
      "Epoch 3/50\n",
      "151/151 [==============================] - 11s 71ms/step - loss: 0.6823 - accuracy: 0.7732 - val_loss: 0.4325 - val_accuracy: 0.8734\n",
      "Epoch 4/50\n",
      "151/151 [==============================] - 10s 65ms/step - loss: 0.4500 - accuracy: 0.8500 - val_loss: 0.2771 - val_accuracy: 0.9174\n",
      "Epoch 5/50\n",
      "151/151 [==============================] - 10s 66ms/step - loss: 0.2994 - accuracy: 0.9005 - val_loss: 0.1657 - val_accuracy: 0.9554\n",
      "Epoch 6/50\n",
      "151/151 [==============================] - 10s 68ms/step - loss: 0.1925 - accuracy: 0.9393 - val_loss: 0.1031 - val_accuracy: 0.9738\n",
      "Epoch 7/50\n",
      "151/151 [==============================] - 10s 66ms/step - loss: 0.1326 - accuracy: 0.9598 - val_loss: 0.0616 - val_accuracy: 0.9851\n",
      "Epoch 8/50\n",
      "151/151 [==============================] - 10s 66ms/step - loss: 0.0966 - accuracy: 0.9736 - val_loss: 0.0411 - val_accuracy: 0.9930\n",
      "Epoch 9/50\n",
      "151/151 [==============================] - 10s 65ms/step - loss: 0.0720 - accuracy: 0.9793 - val_loss: 0.0352 - val_accuracy: 0.9932\n",
      "Epoch 10/50\n",
      "151/151 [==============================] - 10s 66ms/step - loss: 0.0483 - accuracy: 0.9878 - val_loss: 0.0172 - val_accuracy: 0.9983\n",
      "Epoch 11/50\n",
      "151/151 [==============================] - 10s 65ms/step - loss: 0.0337 - accuracy: 0.9924 - val_loss: 0.0101 - val_accuracy: 0.9989\n",
      "Epoch 12/50\n",
      "151/151 [==============================] - 10s 67ms/step - loss: 0.0370 - accuracy: 0.9902 - val_loss: 0.0103 - val_accuracy: 0.9994\n",
      "Epoch 13/50\n",
      "151/151 [==============================] - 10s 69ms/step - loss: 0.0254 - accuracy: 0.9941 - val_loss: 0.0048 - val_accuracy: 0.9995\n",
      "Epoch 14/50\n",
      "151/151 [==============================] - 10s 67ms/step - loss: 0.0221 - accuracy: 0.9946 - val_loss: 0.0060 - val_accuracy: 0.9995\n",
      "Epoch 15/50\n",
      "151/151 [==============================] - 10s 65ms/step - loss: 0.0183 - accuracy: 0.9959 - val_loss: 0.0055 - val_accuracy: 0.9993\n",
      "Epoch 16/50\n",
      "151/151 [==============================] - 10s 67ms/step - loss: 0.0179 - accuracy: 0.9955 - val_loss: 0.0058 - val_accuracy: 0.9992\n",
      "Epoch 17/50\n",
      "151/151 [==============================] - 10s 66ms/step - loss: 0.0116 - accuracy: 0.9971 - val_loss: 0.0033 - val_accuracy: 0.9995\n",
      "Epoch 18/50\n",
      "151/151 [==============================] - 11s 70ms/step - loss: 0.0163 - accuracy: 0.9952 - val_loss: 0.0061 - val_accuracy: 0.9990\n",
      "Epoch 19/50\n",
      "151/151 [==============================] - 10s 67ms/step - loss: 0.0128 - accuracy: 0.9970 - val_loss: 0.0014 - val_accuracy: 0.9999\n",
      "Epoch 20/50\n",
      "151/151 [==============================] - 10s 67ms/step - loss: 0.0207 - accuracy: 0.9937 - val_loss: 0.0038 - val_accuracy: 0.9996\n",
      "Epoch 21/50\n",
      "151/151 [==============================] - 10s 67ms/step - loss: 0.0183 - accuracy: 0.9951 - val_loss: 0.0035 - val_accuracy: 0.9995\n",
      "Epoch 22/50\n",
      "151/151 [==============================] - 10s 68ms/step - loss: 0.0082 - accuracy: 0.9976 - val_loss: 0.0017 - val_accuracy: 0.9999\n",
      "Epoch 23/50\n",
      "151/151 [==============================] - 10s 65ms/step - loss: 0.0074 - accuracy: 0.9980 - val_loss: 0.0018 - val_accuracy: 0.9999\n",
      "Epoch 24/50\n",
      "151/151 [==============================] - 10s 64ms/step - loss: 0.0189 - accuracy: 0.9946 - val_loss: 0.0018 - val_accuracy: 0.9999\n",
      "Epoch 25/50\n",
      "151/151 [==============================] - 10s 64ms/step - loss: 0.0056 - accuracy: 0.9986 - val_loss: 9.5979e-04 - val_accuracy: 0.9998\n",
      "Epoch 26/50\n",
      "151/151 [==============================] - 10s 64ms/step - loss: 0.0054 - accuracy: 0.9986 - val_loss: 0.0091 - val_accuracy: 0.9973\n",
      "Epoch 27/50\n",
      "151/151 [==============================] - 10s 64ms/step - loss: 0.0076 - accuracy: 0.9981 - val_loss: 0.0012 - val_accuracy: 0.9999\n",
      "Epoch 28/50\n",
      "151/151 [==============================] - 10s 64ms/step - loss: 0.0074 - accuracy: 0.9980 - val_loss: 0.0017 - val_accuracy: 0.9996\n",
      "Epoch 29/50\n",
      "151/151 [==============================] - 10s 63ms/step - loss: 0.0078 - accuracy: 0.9976 - val_loss: 0.0014 - val_accuracy: 0.9998\n",
      "Epoch 30/50\n",
      "151/151 [==============================] - 10s 64ms/step - loss: 0.0063 - accuracy: 0.9983 - val_loss: 9.3001e-04 - val_accuracy: 0.9999\n",
      "Epoch 31/50\n",
      "151/151 [==============================] - 10s 64ms/step - loss: 0.0039 - accuracy: 0.9990 - val_loss: 0.0093 - val_accuracy: 0.9972\n",
      "Epoch 32/50\n",
      "151/151 [==============================] - 10s 64ms/step - loss: 0.0104 - accuracy: 0.9971 - val_loss: 0.0012 - val_accuracy: 0.9999\n",
      "Epoch 33/50\n",
      "151/151 [==============================] - 11s 71ms/step - loss: 0.0121 - accuracy: 0.9964 - val_loss: 0.0063 - val_accuracy: 0.9985\n",
      "Epoch 34/50\n",
      "151/151 [==============================] - 10s 67ms/step - loss: 0.0042 - accuracy: 0.9992 - val_loss: 3.6481e-04 - val_accuracy: 1.0000\n",
      "Epoch 35/50\n",
      "151/151 [==============================] - 10s 65ms/step - loss: 0.0063 - accuracy: 0.9978 - val_loss: 0.0034 - val_accuracy: 0.9995\n",
      "Epoch 36/50\n",
      "151/151 [==============================] - 10s 67ms/step - loss: 0.0144 - accuracy: 0.9951 - val_loss: 6.5721e-04 - val_accuracy: 0.9999\n",
      "Epoch 37/50\n",
      "151/151 [==============================] - 10s 67ms/step - loss: 0.0092 - accuracy: 0.9969 - val_loss: 0.0017 - val_accuracy: 0.9996\n",
      "Epoch 38/50\n",
      "151/151 [==============================] - 10s 68ms/step - loss: 0.0077 - accuracy: 0.9976 - val_loss: 0.0055 - val_accuracy: 0.9981\n",
      "Epoch 39/50\n",
      "151/151 [==============================] - 10s 69ms/step - loss: 0.0057 - accuracy: 0.9984 - val_loss: 0.0021 - val_accuracy: 0.9996\n",
      "Epoch 40/50\n",
      "151/151 [==============================] - 10s 65ms/step - loss: 0.0027 - accuracy: 0.9993 - val_loss: 8.5214e-04 - val_accuracy: 0.9998\n",
      "Epoch 41/50\n",
      "151/151 [==============================] - 10s 65ms/step - loss: 6.9355e-04 - accuracy: 0.9999 - val_loss: 1.4741e-04 - val_accuracy: 1.0000\n",
      "Epoch 42/50\n",
      "151/151 [==============================] - 11s 74ms/step - loss: 0.0018 - accuracy: 0.9996 - val_loss: 2.2451e-04 - val_accuracy: 0.9999\n",
      "Epoch 43/50\n",
      "151/151 [==============================] - 11s 72ms/step - loss: 0.0065 - accuracy: 0.9977 - val_loss: 0.0028 - val_accuracy: 0.9993\n",
      "Epoch 44/50\n",
      "151/151 [==============================] - 10s 65ms/step - loss: 0.0149 - accuracy: 0.9954 - val_loss: 0.0132 - val_accuracy: 0.9943\n",
      "Epoch 45/50\n",
      "151/151 [==============================] - 11s 70ms/step - loss: 0.0109 - accuracy: 0.9967 - val_loss: 6.1619e-04 - val_accuracy: 0.9999\n",
      "Epoch 46/50\n",
      "151/151 [==============================] - 10s 66ms/step - loss: 0.0021 - accuracy: 0.9994 - val_loss: 2.0298e-04 - val_accuracy: 1.0000\n",
      "Epoch 47/50\n",
      "151/151 [==============================] - 10s 67ms/step - loss: 9.8221e-04 - accuracy: 0.9999 - val_loss: 4.0958e-05 - val_accuracy: 1.0000\n",
      "Epoch 48/50\n",
      "151/151 [==============================] - 10s 65ms/step - loss: 8.3542e-04 - accuracy: 0.9998 - val_loss: 1.1743e-04 - val_accuracy: 1.0000\n",
      "Epoch 49/50\n",
      "151/151 [==============================] - 10s 65ms/step - loss: 0.0016 - accuracy: 0.9996 - val_loss: 8.5998e-05 - val_accuracy: 1.0000\n",
      "Epoch 50/50\n",
      "151/151 [==============================] - 10s 64ms/step - loss: 0.0098 - accuracy: 0.9967 - val_loss: 0.0071 - val_accuracy: 0.9973\n"
     ]
    }
   ],
   "source": [
    "history = model.fit(x_train, y_train, validation_data = (x_test, y_test), epochs = epochs, batch_size = batch_size)"
   ]
  },
  {
   "cell_type": "code",
   "execution_count": 46,
   "id": "47f481fb",
   "metadata": {},
   "outputs": [
    {
     "data": {
      "image/png": "[encoded data removed]",
      "text/plain": [
       "<Figure size 640x480 with 1 Axes>"
      ]
     },
     "metadata": {},
     "output_type": "display_data"
    }
   ],
   "source": [
    "plt.plot(history.history['accuracy'])\n",
    "plt.plot(history.history['val_accuracy'])\n",
    "plt.title(\"Accuracy\")\n",
    "plt.xlabel('epoch')\n",
    "plt.ylabel('accuracy')\n",
    "plt.legend(['train','test'])\n",
    "plt.show()"
   ]
  },
  {
   "cell_type": "code",
   "execution_count": 49,
   "id": "2f9a56be",
   "metadata": {},
   "outputs": [],
   "source": [
    "test_labels = test['label']"
   ]
  },
  {
   "cell_type": "code",
   "execution_count": 50,
   "id": "6f81adef",
   "metadata": {},
   "outputs": [],
   "source": [
    "test.drop('label', axis = 1, inplace = True)"
   ]
  },
  {
   "cell_type": "code",
   "execution_count": 53,
   "id": "7b4abfe9",
   "metadata": {},
   "outputs": [],
   "source": [
    "test_images = test.values\n",
    "test_images = np.array([np.reshape(i, (28, 28)) for i in test_images])\n",
    "test_images = np.array([i.flatten() for i in test_images])"
   ]
  },
  {
   "cell_type": "code",
   "execution_count": 55,
   "id": "d5ea8b03",
   "metadata": {},
   "outputs": [],
   "source": [
    "test_labels = label_binarizer.fit_transform(test_labels)"
   ]
  },
  {
   "cell_type": "code",
   "execution_count": 56,
   "id": "d39a3483",
   "metadata": {},
   "outputs": [],
   "source": [
    "test_images = test_images.reshape(test_images.shape[0], 28, 28, 1)"
   ]
  },
  {
   "cell_type": "code",
   "execution_count": 57,
   "id": "577222a5",
   "metadata": {},
   "outputs": [
    {
     "data": {
      "text/plain": [
       "(7172, 28, 28, 1)"
      ]
     },
     "execution_count": 57,
     "metadata": {},
     "output_type": "execute_result"
    }
   ],
   "source": [
    "test_images.shape"
   ]
  },
  {
   "cell_type": "code",
   "execution_count": 58,
   "id": "351ca87d",
   "metadata": {},
   "outputs": [
    {
     "name": "stdout",
     "output_type": "stream",
     "text": [
      "225/225 [==============================] - 1s 4ms/step\n"
     ]
    }
   ],
   "source": [
    "y_pred = model.predict(test_images)"
   ]
  },
  {
   "cell_type": "code",
   "execution_count": 61,
   "id": "cb47dd9c",
   "metadata": {},
   "outputs": [
    {
     "data": {
      "text/plain": [
       "0.7902955939765756"
      ]
     },
     "execution_count": 61,
     "metadata": {},
     "output_type": "execute_result"
    }
   ],
   "source": [
    "accuracy_score(test_labels, y_pred.round())"
   ]
  },
  {
   "cell_type": "code",
   "execution_count": 65,
   "id": "ec5536c0",
   "metadata": {},
   "outputs": [
    {
     "data": {
      "text/plain": [
       "<keras.src.callbacks.History at 0x175bb7710>"
      ]
     },
     "execution_count": 65,
     "metadata": {},
     "output_type": "execute_result"
    }
   ],
   "source": [
    "history"
   ]
  },
  {
   "cell_type": "code",
   "execution_count": 67,
   "id": "b6937bfe",
   "metadata": {},
   "outputs": [],
   "source": [
    "model.save('DLforSignLang.keras')"
   ]
  },
  {
   "cell_type": "code",
   "execution_count": null,
   "id": "9a152969",
   "metadata": {},
   "outputs": [],
   "source": []
  }
 ],
 "metadata": {
  "kernelspec": {
   "display_name": "Python 3 (ipykernel)",
   "language": "python",
   "name": "python3"
  },
  "language_info": {
   "codemirror_mode": {
    "name": "ipython",
    "version": 3
   },
   "file_extension": ".py",
   "mimetype": "text/x-python",
   "name": "python",
   "nbconvert_exporter": "python",
   "pygments_lexer": "ipython3",
   "version": "3.11.5"
  }
 },
 "nbformat": 4,
 "nbformat_minor": 5
}
