{
 "cells": [
  {
   "cell_type": "code",
   "execution_count": 1,
   "id": "8aa80427",
   "metadata": {},
   "outputs": [],
   "source": [
    "import torch\n",
    "import numpy as np"
   ]
  },
  {
   "cell_type": "code",
   "execution_count": 2,
   "id": "0354312e",
   "metadata": {},
   "outputs": [
    {
     "name": "stdout",
     "output_type": "stream",
     "text": [
      "tensor(4)\n",
      "torch.int64\n",
      "torch.Size([])\n"
     ]
    }
   ],
   "source": [
    "t1 = torch.tensor(4)\n",
    "print(t1)\n",
    "print(t1.dtype)\n",
    "print(t1.shape)"
   ]
  },
  {
   "cell_type": "code",
   "execution_count": 3,
   "id": "13fae6ef",
   "metadata": {},
   "outputs": [
    {
     "name": "stdout",
     "output_type": "stream",
     "text": [
      "tensor(4.)\n",
      "torch.Size([])\n",
      "torch.float32\n"
     ]
    }
   ],
   "source": [
    "t2 = torch.tensor(4.)\n",
    "print(t2)\n",
    "print(t2.shape)\n",
    "print(t2.dtype)"
   ]
  },
  {
   "cell_type": "code",
   "execution_count": 4,
   "id": "3aeab5e8",
   "metadata": {},
   "outputs": [
    {
     "name": "stdout",
     "output_type": "stream",
     "text": [
      "tensor([3., 1., 2., 5.])\n",
      "torch.float32\n",
      "torch.Size([4])\n"
     ]
    }
   ],
   "source": [
    "# vector\n",
    "t3 = torch.tensor([3.,1,2,5])\n",
    "print(t3)\n",
    "print(t3.dtype)\n",
    "print(t3.shape)"
   ]
  },
  {
   "cell_type": "code",
   "execution_count": 5,
   "id": "e77efcaa",
   "metadata": {},
   "outputs": [
    {
     "name": "stdout",
     "output_type": "stream",
     "text": [
      "tensor([[12, 31],\n",
      "        [ 1,  2]])\n",
      "torch.int64\n",
      "torch.Size([2, 2])\n"
     ]
    }
   ],
   "source": [
    "# matrix\n",
    "t4 = torch.tensor([[12,31],\n",
    "                   [1,2]])\n",
    "print(t4)\n",
    "print(t4.dtype)\n",
    "print(t4.shape)"
   ]
  },
  {
   "cell_type": "code",
   "execution_count": 6,
   "id": "7d14a41f",
   "metadata": {},
   "outputs": [
    {
     "name": "stdout",
     "output_type": "stream",
     "text": [
      "tensor([[[11., 12., 13.],\n",
      "         [13., 14., 15.]],\n",
      "\n",
      "        [[15., 16., 17.],\n",
      "         [17., 18., 19.]]])\n",
      "torch.Size([2, 2, 3])\n",
      "torch.float32\n"
     ]
    }
   ],
   "source": [
    "# 3-dimensional array\n",
    "t5 = torch.tensor([\n",
    "    [[11, 12, 13], \n",
    "     [13, 14, 15]], \n",
    "    [[15, 16, 17], \n",
    "     [17, 18, 19.]]])\n",
    "print(t5)\n",
    "print(t5.shape)\n",
    "print(t5.dtype)"
   ]
  },
  {
   "cell_type": "code",
   "execution_count": 7,
   "id": "e24e83cc",
   "metadata": {},
   "outputs": [
    {
     "data": {
      "text/plain": [
       "(tensor(3), tensor(4., requires_grad=True), tensor(5., requires_grad=True))"
      ]
     },
     "execution_count": 7,
     "metadata": {},
     "output_type": "execute_result"
    }
   ],
   "source": [
    "# Basic Neuron (Perceptron)\n",
    "\n",
    "x = torch.tensor(3)\n",
    "w = torch.tensor(4., requires_grad = True)\n",
    "b = torch.tensor(5., requires_grad = True)\n",
    "\n",
    "x,w,b"
   ]
  },
  {
   "cell_type": "code",
   "execution_count": 8,
   "id": "06941f84",
   "metadata": {},
   "outputs": [
    {
     "data": {
      "text/plain": [
       "tensor(17., grad_fn=<AddBackward0>)"
      ]
     },
     "execution_count": 8,
     "metadata": {},
     "output_type": "execute_result"
    }
   ],
   "source": [
    "# Arithmetic Operation\n",
    "\n",
    "y = w * x + b\n",
    "y"
   ]
  },
  {
   "cell_type": "code",
   "execution_count": 9,
   "id": "62d7c347",
   "metadata": {},
   "outputs": [],
   "source": [
    "# Compute Derivatives\n",
    "\n",
    "y.backward()"
   ]
  },
  {
   "cell_type": "code",
   "execution_count": 10,
   "id": "233c4401",
   "metadata": {},
   "outputs": [
    {
     "name": "stdout",
     "output_type": "stream",
     "text": [
      "dx/dy: None\n",
      "dw/dy: 3.0\n",
      "db/dy: 1.0\n"
     ]
    }
   ],
   "source": [
    "# Display Derivatives\n",
    "\n",
    "print(f\"dx/dy: {x.grad}\")\n",
    "print(f\"dw/dy: {w.grad}\")\n",
    "print(f\"db/dy: {b.grad}\")"
   ]
  },
  {
   "cell_type": "code",
   "execution_count": 11,
   "id": "2203d2eb",
   "metadata": {},
   "outputs": [
    {
     "name": "stdout",
     "output_type": "stream",
     "text": [
      "x: [[1. 2.]\n",
      " [3. 4.]]\n",
      "x.dtype: float64\n",
      "x.shape: (2, 2)\n"
     ]
    }
   ],
   "source": [
    "x = np.array([[1.,2.],[3.,4]])\n",
    "print(f\"x: {x}\")\n",
    "print(f\"x.dtype: {x.dtype}\")\n",
    "print(f\"x.shape: {x.shape}\")"
   ]
  },
  {
   "cell_type": "code",
   "execution_count": 12,
   "id": "0badcdfd",
   "metadata": {},
   "outputs": [
    {
     "name": "stdout",
     "output_type": "stream",
     "text": [
      "y: tensor([[1., 2.],\n",
      "        [3., 4.]], dtype=torch.float64)\n",
      "y.dtype: torch.float64\n",
      "y.shape: torch.Size([2, 2])\n"
     ]
    }
   ],
   "source": [
    "# Numpy to Tensor\n",
    "\n",
    "y = torch.from_numpy(x)\n",
    "print(f\"y: {y}\")\n",
    "print(f\"y.dtype: {y.dtype}\")\n",
    "print(f\"y.shape: {y.shape}\")"
   ]
  },
  {
   "cell_type": "code",
   "execution_count": 13,
   "id": "900bf766",
   "metadata": {},
   "outputs": [
    {
     "name": "stdout",
     "output_type": "stream",
     "text": [
      "z: [[1. 2.]\n",
      " [3. 4.]]\n",
      "z.dtype: float64\n",
      "z.shape: (2, 2)\n"
     ]
    }
   ],
   "source": [
    "# Convert tensor to numpy\n",
    "\n",
    "z = y.numpy()\n",
    "print(f\"z: {z}\")\n",
    "print(f\"z.dtype: {z.dtype}\")\n",
    "print(f\"z.shape: {z.shape}\")"
   ]
  },
  {
   "cell_type": "code",
   "execution_count": null,
   "id": "76c7cca1",
   "metadata": {},
   "outputs": [],
   "source": []
  },
  {
   "cell_type": "code",
   "execution_count": null,
   "id": "8c8b5c2d",
   "metadata": {},
   "outputs": [],
   "source": []
  },
  {
   "cell_type": "code",
   "execution_count": null,
   "id": "9d1c9e8b",
   "metadata": {},
   "outputs": [],
   "source": []
  }
 ],
 "metadata": {
  "kernelspec": {
   "display_name": "Python 3 (ipykernel)",
   "language": "python",
   "name": "python3"
  },
  "language_info": {
   "codemirror_mode": {
    "name": "ipython",
    "version": 3
   },
   "file_extension": ".py",
   "mimetype": "text/x-python",
   "name": "python",
   "nbconvert_exporter": "python",
   "pygments_lexer": "ipython3",
   "version": "3.11.5"
  }
 },
 "nbformat": 4,
 "nbformat_minor": 5
}
