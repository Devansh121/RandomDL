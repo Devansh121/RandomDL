{
 "cells": [
  {
   "cell_type": "code",
   "execution_count": 4,
   "id": "0c9af2cc",
   "metadata": {},
   "outputs": [],
   "source": [
    "import torch\n",
    "import torch.nn as nn\n",
    "from torch.utils.data import TensorDataset\n",
    "from torch.utils.data import DataLoader\n",
    "import torch.nn.functional as F\n",
    "import numpy as np"
   ]
  },
  {
   "cell_type": "code",
   "execution_count": 5,
   "id": "8fd93b81",
   "metadata": {},
   "outputs": [],
   "source": [
    "# Input (temp, rainfall, humidity)\n",
    "inputs = np.array([[73, 67, 43], \n",
    "                   [91, 88, 64], \n",
    "                   [87, 134, 58], \n",
    "                   [102, 43, 37], \n",
    "                   [69, 96, 70], \n",
    "                   [74, 66, 43], \n",
    "                   [91, 87, 65], \n",
    "                   [88, 134, 59], \n",
    "                   [101, 44, 37], \n",
    "                   [68, 96, 71], \n",
    "                   [73, 66, 44], \n",
    "                   [92, 87, 64], \n",
    "                   [87, 135, 57], \n",
    "                   [103, 43, 36], \n",
    "                   [68, 97, 70]], \n",
    "                  dtype='float32')\n",
    "\n",
    "# Targets (apples, oranges)\n",
    "targets = np.array([[56, 70], \n",
    "                    [81, 101], \n",
    "                    [119, 133], \n",
    "                    [22, 37], \n",
    "                    [103, 119],\n",
    "                    [57, 69], \n",
    "                    [80, 102], \n",
    "                    [118, 132], \n",
    "                    [21, 38], \n",
    "                    [104, 118], \n",
    "                    [57, 69], \n",
    "                    [82, 100], \n",
    "                    [118, 134], \n",
    "                    [20, 38], \n",
    "                    [102, 120]], \n",
    "                   dtype='float32')"
   ]
  },
  {
   "cell_type": "code",
   "execution_count": 6,
   "id": "adc491ee",
   "metadata": {},
   "outputs": [],
   "source": [
    "inputs = torch.from_numpy(inputs)\n",
    "targets = torch.from_numpy(targets)"
   ]
  },
  {
   "cell_type": "code",
   "execution_count": 7,
   "id": "8a8626d4",
   "metadata": {},
   "outputs": [],
   "source": [
    "train_ds = TensorDataset(inputs,targets)"
   ]
  },
  {
   "cell_type": "code",
   "execution_count": 8,
   "id": "679d9d34",
   "metadata": {},
   "outputs": [
    {
     "data": {
      "text/plain": [
       "(tensor([[ 73.,  67.,  43.],\n",
       "         [ 91.,  88.,  64.],\n",
       "         [ 87., 134.,  58.]]),\n",
       " tensor([[ 56.,  70.],\n",
       "         [ 81., 101.],\n",
       "         [119., 133.]]))"
      ]
     },
     "execution_count": 8,
     "metadata": {},
     "output_type": "execute_result"
    }
   ],
   "source": [
    "train_ds[0:3]"
   ]
  },
  {
   "cell_type": "code",
   "execution_count": 9,
   "id": "df8742f4",
   "metadata": {},
   "outputs": [],
   "source": [
    "batch_size = 5\n",
    "train_dl = DataLoader(train_ds, batch_size, shuffle = True)"
   ]
  },
  {
   "cell_type": "code",
   "execution_count": 10,
   "id": "58c8d37c",
   "metadata": {},
   "outputs": [
    {
     "name": "stdout",
     "output_type": "stream",
     "text": [
      "tensor([[ 92.,  87.,  64.],\n",
      "        [ 69.,  96.,  70.],\n",
      "        [ 73.,  67.,  43.],\n",
      "        [ 74.,  66.,  43.],\n",
      "        [102.,  43.,  37.]])\n",
      "tensor([[ 82., 100.],\n",
      "        [103., 119.],\n",
      "        [ 56.,  70.],\n",
      "        [ 57.,  69.],\n",
      "        [ 22.,  37.]])\n"
     ]
    }
   ],
   "source": [
    "for xb, yb in train_dl:\n",
    "    print(xb)\n",
    "    print(yb)\n",
    "    break"
   ]
  },
  {
   "cell_type": "code",
   "execution_count": 11,
   "id": "ec909dd2",
   "metadata": {},
   "outputs": [
    {
     "name": "stdout",
     "output_type": "stream",
     "text": [
      "Model.Weights: Parameter containing:\n",
      "tensor([[ 0.2617,  0.5282,  0.2739],\n",
      "        [ 0.4507, -0.1173, -0.5206]], requires_grad=True)\n",
      "Model.Bias: Parameter containing:\n",
      "tensor([ 0.4770, -0.5369], requires_grad=True)\n"
     ]
    }
   ],
   "source": [
    "model = nn.Linear(3,2)\n",
    "print(f\"Model.Weights: {model.weight}\")\n",
    "print(f\"Model.Bias: {model.bias}\")"
   ]
  },
  {
   "cell_type": "code",
   "execution_count": 12,
   "id": "ad5afd5b",
   "metadata": {},
   "outputs": [
    {
     "data": {
      "text/plain": [
       "[Parameter containing:\n",
       " tensor([[ 0.2617,  0.5282,  0.2739],\n",
       "         [ 0.4507, -0.1173, -0.5206]], requires_grad=True),\n",
       " Parameter containing:\n",
       " tensor([ 0.4770, -0.5369], requires_grad=True)]"
      ]
     },
     "execution_count": 12,
     "metadata": {},
     "output_type": "execute_result"
    }
   ],
   "source": [
    "list(model.parameters())"
   ]
  },
  {
   "cell_type": "code",
   "execution_count": 13,
   "id": "a8ad54f9",
   "metadata": {},
   "outputs": [
    {
     "data": {
      "text/plain": [
       "tensor([[ 66.7461,   2.1158],\n",
       "        [ 88.2998,  -3.1682],\n",
       "        [109.9048,  -7.2452],\n",
       "        [ 60.0171,  21.1248],\n",
       "        [ 88.4104, -17.1450],\n",
       "        [ 66.4796,   2.6838],\n",
       "        [ 88.0456,  -3.5714],\n",
       "        [110.4404,  -7.3150],\n",
       "        [ 60.2835,  20.5568],\n",
       "        [ 88.4226, -18.1163],\n",
       "        [ 66.4918,   1.7126],\n",
       "        [ 88.0334,  -2.6002],\n",
       "        [110.1591,  -6.8419],\n",
       "        [ 60.0049,  22.0960],\n",
       "        [ 88.6768, -17.7130]], grad_fn=<AddmmBackward0>)"
      ]
     },
     "execution_count": 13,
     "metadata": {},
     "output_type": "execute_result"
    }
   ],
   "source": [
    "pred = model(inputs)\n",
    "pred"
   ]
  },
  {
   "cell_type": "code",
   "execution_count": 14,
   "id": "17b6564f",
   "metadata": {},
   "outputs": [],
   "source": [
    "loss_fn = F.mse_loss"
   ]
  },
  {
   "cell_type": "code",
   "execution_count": 15,
   "id": "f55c29ce",
   "metadata": {},
   "outputs": [],
   "source": [
    "loss = loss_fn(model(inputs),targets)"
   ]
  },
  {
   "cell_type": "code",
   "execution_count": 16,
   "id": "ff07175f",
   "metadata": {},
   "outputs": [
    {
     "data": {
      "text/plain": [
       "tensor(5589.3657, grad_fn=<MseLossBackward0>)"
      ]
     },
     "execution_count": 16,
     "metadata": {},
     "output_type": "execute_result"
    }
   ],
   "source": [
    "loss"
   ]
  },
  {
   "cell_type": "code",
   "execution_count": 17,
   "id": "26a2f9ca",
   "metadata": {},
   "outputs": [],
   "source": [
    "opt = torch.optim.SGD(model.parameters(), lr = 1e-5)"
   ]
  },
  {
   "cell_type": "code",
   "execution_count": 18,
   "id": "5a46ac4a",
   "metadata": {},
   "outputs": [],
   "source": [
    "def fit(num_epochs, model, loss_fn, opt, train_dl):\n",
    "    for epoch in range(1, num_epochs+1):\n",
    "        for xb,yb in train_dl:\n",
    "            pred  = model(xb)\n",
    "            loss = loss_fn(pred,yb)\n",
    "            loss.backward()\n",
    "            opt.step()\n",
    "            opt.zero_grad()\n",
    "        if epoch%10 == 0:\n",
    "            print(f\"Epoch [{epoch}/{num_epochs}], Loss: {loss.item()}\")\n",
    "            "
   ]
  },
  {
   "cell_type": "code",
   "execution_count": 19,
   "id": "5fa0e885",
   "metadata": {},
   "outputs": [
    {
     "name": "stdout",
     "output_type": "stream",
     "text": [
      "Epoch [10/100], Loss: 734.6847534179688\n",
      "Epoch [20/100], Loss: 488.45281982421875\n",
      "Epoch [30/100], Loss: 272.984130859375\n",
      "Epoch [40/100], Loss: 84.90351104736328\n",
      "Epoch [50/100], Loss: 9.145484924316406\n",
      "Epoch [60/100], Loss: 227.40896606445312\n",
      "Epoch [70/100], Loss: 130.11648559570312\n",
      "Epoch [80/100], Loss: 140.37380981445312\n",
      "Epoch [90/100], Loss: 86.94795227050781\n",
      "Epoch [100/100], Loss: 52.77508544921875\n"
     ]
    }
   ],
   "source": [
    "fit(100, model, loss_fn, opt, train_dl)"
   ]
  },
  {
   "cell_type": "code",
   "execution_count": 20,
   "id": "10358c71",
   "metadata": {},
   "outputs": [
    {
     "name": "stdout",
     "output_type": "stream",
     "text": [
      "tensor([[ 58.1065,  72.2888],\n",
      "        [ 80.5360,  95.9453],\n",
      "        [119.7534, 139.7826],\n",
      "        [ 26.8348,  49.0177],\n",
      "        [ 95.8385, 103.8615],\n",
      "        [ 56.9607,  71.3454],\n",
      "        [ 80.0628,  95.1022],\n",
      "        [119.9008, 139.9409],\n",
      "        [ 27.9806,  49.9611],\n",
      "        [ 96.5111, 103.9618],\n",
      "        [ 57.6333,  71.4457],\n",
      "        [ 79.3902,  95.0019],\n",
      "        [120.2267, 140.6257],\n",
      "        [ 26.1622,  48.9175],\n",
      "        [ 96.9843, 104.8049]], grad_fn=<AddmmBackward0>)\n"
     ]
    }
   ],
   "source": [
    "preds = model(inputs)\n",
    "print(preds)"
   ]
  },
  {
   "cell_type": "code",
   "execution_count": 21,
   "id": "d4966003",
   "metadata": {},
   "outputs": [
    {
     "data": {
      "text/plain": [
       "tensor([[ 56.,  70.],\n",
       "        [ 81., 101.],\n",
       "        [119., 133.],\n",
       "        [ 22.,  37.],\n",
       "        [103., 119.],\n",
       "        [ 57.,  69.],\n",
       "        [ 80., 102.],\n",
       "        [118., 132.],\n",
       "        [ 21.,  38.],\n",
       "        [104., 118.],\n",
       "        [ 57.,  69.],\n",
       "        [ 82., 100.],\n",
       "        [118., 134.],\n",
       "        [ 20.,  38.],\n",
       "        [102., 120.]])"
      ]
     },
     "execution_count": 21,
     "metadata": {},
     "output_type": "execute_result"
    }
   ],
   "source": [
    "targets"
   ]
  },
  {
   "cell_type": "code",
   "execution_count": 22,
   "id": "0053402d",
   "metadata": {},
   "outputs": [
    {
     "data": {
      "text/plain": [
       "tensor([[54.4585, 68.5866]], grad_fn=<AddmmBackward0>)"
      ]
     },
     "execution_count": 22,
     "metadata": {},
     "output_type": "execute_result"
    }
   ],
   "source": [
    "model(torch.tensor([[75, 63, 44.]]))"
   ]
  },
  {
   "cell_type": "code",
   "execution_count": null,
   "id": "554aa733",
   "metadata": {},
   "outputs": [],
   "source": []
  },
  {
   "cell_type": "code",
   "execution_count": null,
   "id": "25412156",
   "metadata": {},
   "outputs": [],
   "source": []
  }
 ],
 "metadata": {
  "kernelspec": {
   "display_name": "Python 3 (ipykernel)",
   "language": "python",
   "name": "python3"
  },
  "language_info": {
   "codemirror_mode": {
    "name": "ipython",
    "version": 3
   },
   "file_extension": ".py",
   "mimetype": "text/x-python",
   "name": "python",
   "nbconvert_exporter": "python",
   "pygments_lexer": "ipython3",
   "version": "3.11.5"
  }
 },
 "nbformat": 4,
 "nbformat_minor": 5
}
